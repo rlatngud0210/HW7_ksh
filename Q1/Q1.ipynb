{
 "cells": [
  {
   "cell_type": "code",
   "execution_count": 1,
   "id": "69dce5e3",
   "metadata": {},
   "outputs": [
    {
     "name": "stdout",
     "output_type": "stream",
     "text": [
      "Eigenvalues:  [-0.37228132  5.37228132]\n",
      "Eigenvectors: \n",
      "[[-0.82456484 -0.41597356]\n",
      " [ 0.56576746 -0.90937671]]\n",
      "Determinant:  -2.0\n",
      "Cross product:  [-3  6 -3]\n",
      "Solution: \n",
      "[[-1.]\n",
      " [-4.]\n",
      " [ 3.]]\n"
     ]
    }
   ],
   "source": [
    "import numpy as np\n",
    "def main():\n",
    "    a = np.array([[1,2],[3,4]])\n",
    "    vec1 = [1,2,3]\n",
    "    vec2= [4,5,6]\n",
    "    A = np.array([[1,2,-2],[2,1,-5],[1,-4,1]])\n",
    "    b = np.array([[-15],[-21],[18]])\n",
    "    (value,vector)=np.linalg.eig(a)\n",
    "    print(\"Eigenvalues: \",value)\n",
    "    print(\"Eigenvectors: \")\n",
    "    print(vector)\n",
    "    print(\"Determinant: \",round(np.linalg.det(a),1))\n",
    "    print(\"Cross product: \",np.cross(vec1,vec2))\n",
    "    print(\"Solution: \")\n",
    "    print( np.linalg.solve(A,b))\n",
    "if __name__ == '__main__':\n",
    "    main()"
   ]
  },
  {
   "cell_type": "code",
   "execution_count": null,
   "id": "42c0b13f",
   "metadata": {},
   "outputs": [],
   "source": []
  }
 ],
 "metadata": {
  "kernelspec": {
   "display_name": "Python 3 (ipykernel)",
   "language": "python",
   "name": "python3"
  },
  "language_info": {
   "codemirror_mode": {
    "name": "ipython",
    "version": 3
   },
   "file_extension": ".py",
   "mimetype": "text/x-python",
   "name": "python",
   "nbconvert_exporter": "python",
   "pygments_lexer": "ipython3",
   "version": "3.9.13"
  }
 },
 "nbformat": 4,
 "nbformat_minor": 5
}
