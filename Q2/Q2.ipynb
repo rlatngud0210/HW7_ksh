{
 "cells": [
  {
   "cell_type": "code",
   "execution_count": 1,
   "id": "75ec0729",
   "metadata": {},
   "outputs": [
    {
     "name": "stdout",
     "output_type": "stream",
     "text": [
      "doc1:  0.58\n",
      "doc2:  0.87\n",
      "doc3:  0.67\n"
     ]
    }
   ],
   "source": [
    "import numpy as np\n",
    "\n",
    "def Similarity(doc,query):\n",
    "    return np.dot(doc,query)/(np.linalg.norm(doc)*np.linalg.norm(query))\n",
    "def main():\n",
    "    Docs = np.array([[1,1,0,1,0,1],[1,1,1,0,1,0],[1,1,0,1,0,0]])\n",
    "    Query = np.array([1,1,0,0,1,0])\n",
    "    print(\"doc1: \",round(Similarity(Docs[0,:],Query),2))\n",
    "    print(\"doc2: \",round(Similarity(Docs[1,:],Query),2))\n",
    "    print(\"doc3: \",round(Similarity(Docs[2,:],Query),2))\n",
    "if __name__ == '__main__':\n",
    "    main()"
   ]
  },
  {
   "cell_type": "code",
   "execution_count": null,
   "id": "43c7a6d4",
   "metadata": {},
   "outputs": [],
   "source": []
  }
 ],
 "metadata": {
  "kernelspec": {
   "display_name": "Python 3 (ipykernel)",
   "language": "python",
   "name": "python3"
  },
  "language_info": {
   "codemirror_mode": {
    "name": "ipython",
    "version": 3
   },
   "file_extension": ".py",
   "mimetype": "text/x-python",
   "name": "python",
   "nbconvert_exporter": "python",
   "pygments_lexer": "ipython3",
   "version": "3.9.13"
  }
 },
 "nbformat": 4,
 "nbformat_minor": 5
}
